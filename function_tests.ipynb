{
 "cells": [
  {
   "cell_type": "code",
   "execution_count": 6,
   "metadata": {},
   "outputs": [],
   "source": [
    "from datetime import datetime, date\n",
    "import calendar, random"
   ]
  },
  {
   "cell_type": "code",
   "execution_count": 19,
   "metadata": {},
   "outputs": [
    {
     "name": "stdout",
     "output_type": "stream",
     "text": [
      "8 January 2025\n"
     ]
    }
   ],
   "source": [
    "today = datetime.now()\n",
    "\n",
    "year = today.year\n",
    "month = calendar.month_name[today.month]\n",
    "day = today.day\n",
    "\n",
    "day = f'{day} {month} {year}'\n",
    "\n"
   ]
  },
  {
   "cell_type": "code",
   "execution_count": 22,
   "metadata": {},
   "outputs": [
    {
     "name": "stdout",
     "output_type": "stream",
     "text": [
      "9 January 2025\n"
     ]
    }
   ],
   "source": [
    "year = today.year\n",
    "month = calendar.month_name[today.month]\n",
    "day = today.day + 1\n",
    "\n",
    "day = f'{day} {month} {year}'\n",
    "print(day)"
   ]
  },
  {
   "cell_type": "code",
   "execution_count": 9,
   "metadata": {},
   "outputs": [
    {
     "name": "stdout",
     "output_type": "stream",
     "text": [
      "4.0\n"
     ]
    }
   ],
   "source": [
    "\n",
    "with open(r\"files\\test.txt\",'r') as f:\n",
    "    st = float(f.readlines()[0])\n",
    "print(st)"
   ]
  },
  {
   "cell_type": "code",
   "execution_count": 8,
   "metadata": {},
   "outputs": [],
   "source": [
    "def rand():\n",
    "    rand = random.randint(80, 101)\n",
    "    return rand"
   ]
  },
  {
   "cell_type": "code",
   "execution_count": 44,
   "metadata": {},
   "outputs": [
    {
     "name": "stdout",
     "output_type": "stream",
     "text": [
      "88\n"
     ]
    }
   ],
   "source": [
    "print(rand())"
   ]
  },
  {
   "cell_type": "code",
   "execution_count": 6,
   "metadata": {},
   "outputs": [
    {
     "name": "stdout",
     "output_type": "stream",
     "text": [
      "16.666666666666668\n",
      "16\n",
      "4\n"
     ]
    }
   ],
   "source": [
    "import math\n",
    "total = 6\n",
    "percentage = 100/total\n",
    "print(percentage)\n",
    "percentage1 = math.floor(percentage)\n",
    "print(percentage1)\n",
    "percentage2 = int(100 - (percentage1*total))\n",
    "print(percentage2)"
   ]
  }
 ],
 "metadata": {
  "kernelspec": {
   "display_name": "Python 3",
   "language": "python",
   "name": "python3"
  },
  "language_info": {
   "codemirror_mode": {
    "name": "ipython",
    "version": 3
   },
   "file_extension": ".py",
   "mimetype": "text/x-python",
   "name": "python",
   "nbconvert_exporter": "python",
   "pygments_lexer": "ipython3",
   "version": "3.12.7"
  }
 },
 "nbformat": 4,
 "nbformat_minor": 2
}
