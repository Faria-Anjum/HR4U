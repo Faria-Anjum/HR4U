{
 "cells": [
  {
   "cell_type": "code",
   "execution_count": 9,
   "metadata": {},
   "outputs": [],
   "source": [
    "import datetime, calendar, random"
   ]
  },
  {
   "cell_type": "code",
   "execution_count": 10,
   "metadata": {},
   "outputs": [],
   "source": [
    "today = datetime.now()\n",
    "\n",
    "year = today.year\n",
    "month = calendar.month_name[today.month]\n",
    "day = today.day\n",
    "\n",
    "day = f'{day} {month} {year}'\n",
    "\n"
   ]
  },
  {
   "cell_type": "code",
   "execution_count": 19,
   "metadata": {},
   "outputs": [
    {
     "name": "stdout",
     "output_type": "stream",
     "text": [
      "3\n"
     ]
    }
   ],
   "source": [
    "month = (12 + 3)%12\n",
    "if month == 0:\n",
    "    month = 12\n",
    "print(month)"
   ]
  },
  {
   "cell_type": "code",
   "execution_count": 33,
   "metadata": {},
   "outputs": [],
   "source": [
    "def monthlogic(month):\n",
    "    if month == 0:\n",
    "        month = 12\n",
    "    if month < today.month:\n",
    "        year = today.year + 1\n",
    "    else:\n",
    "        year = today.year\n",
    "\n",
    "    return month, year\n",
    "\n",
    "def threemonths():\n",
    "    today = datetime.now()\n",
    "\n",
    "    month = (today.month + 3)%12\n",
    "    month, year = monthlogic(month)\n",
    "\n",
    "    if today.day in [28,29,30,31]:\n",
    "        day = 1\n",
    "        month = (month + 1)%12\n",
    "        monthlogic(month, year)\n",
    "    else:\n",
    "        day = today.day\n",
    "\n",
    "    month = calendar.month_name[month]\n",
    "\n",
    "    day = f'{day} {month} {year}'\n",
    "\n",
    "    print(day)"
   ]
  },
  {
   "cell_type": "code",
   "execution_count": 34,
   "metadata": {},
   "outputs": [
    {
     "name": "stdout",
     "output_type": "stream",
     "text": [
      "19 April 2025\n"
     ]
    }
   ],
   "source": [
    "threemonths()"
   ]
  },
  {
   "cell_type": "code",
   "execution_count": 22,
   "metadata": {},
   "outputs": [
    {
     "name": "stdout",
     "output_type": "stream",
     "text": [
      "9 January 2025\n"
     ]
    }
   ],
   "source": [
    "year = today.year\n",
    "month = calendar.month_name[today.month]\n",
    "day = today.day + 1\n",
    "\n",
    "day = f'{day} {month} {year}'\n",
    "print(day)"
   ]
  },
  {
   "cell_type": "code",
   "execution_count": 9,
   "metadata": {},
   "outputs": [
    {
     "name": "stdout",
     "output_type": "stream",
     "text": [
      "4.0\n"
     ]
    }
   ],
   "source": [
    "\n",
    "with open(r\"files\\test.txt\",'r') as f:\n",
    "    st = float(f.readlines()[0])\n",
    "print(st)"
   ]
  },
  {
   "cell_type": "code",
   "execution_count": 8,
   "metadata": {},
   "outputs": [],
   "source": [
    "def rand():\n",
    "    rand = random.randint(80, 101)\n",
    "    return rand"
   ]
  },
  {
   "cell_type": "code",
   "execution_count": 44,
   "metadata": {},
   "outputs": [
    {
     "name": "stdout",
     "output_type": "stream",
     "text": [
      "88\n"
     ]
    }
   ],
   "source": [
    "print(rand())"
   ]
  },
  {
   "cell_type": "code",
   "execution_count": 6,
   "metadata": {},
   "outputs": [
    {
     "name": "stdout",
     "output_type": "stream",
     "text": [
      "16.666666666666668\n",
      "16\n",
      "4\n"
     ]
    }
   ],
   "source": [
    "import math\n",
    "total = 6\n",
    "percentage = 100/total\n",
    "print(percentage)\n",
    "percentage1 = math.floor(percentage)\n",
    "print(percentage1)\n",
    "percentage2 = int(100 - (percentage1*total))\n",
    "print(percentage2)"
   ]
  },
  {
   "cell_type": "code",
   "execution_count": 9,
   "metadata": {},
   "outputs": [
    {
     "name": "stdout",
     "output_type": "stream",
     "text": [
      "2025\n"
     ]
    }
   ],
   "source": [
    "today = datetime.now()\n",
    "year = today.year\n",
    "print(year)"
   ]
  },
  {
   "cell_type": "code",
   "execution_count": 67,
   "metadata": {},
   "outputs": [
    {
     "name": "stdout",
     "output_type": "stream",
     "text": [
      "3\n"
     ]
    }
   ],
   "source": [
    "score = str(random.randint(3,5))\n",
    "print(score)"
   ]
  },
  {
   "cell_type": "code",
   "execution_count": 86,
   "metadata": {},
   "outputs": [],
   "source": [
    "import re\n",
    "kpiname = \"Inscryption\"\n",
    "kpiYear = \"2024\"\n",
    "kpi = 1\n",
    "\n",
    "string1 = \"Inscryption 2024? 1.1\"\n",
    "string2 = \"Inscryption 1.1\""
   ]
  },
  {
   "cell_type": "code",
   "execution_count": 85,
   "metadata": {},
   "outputs": [
    {
     "name": "stdout",
     "output_type": "stream",
     "text": [
      "re.compile('Inscryption 2024? 1.1') Inscryption 2024 1.1\n"
     ]
    }
   ],
   "source": [
    "text=re.compile(fr\"{re.escape(kpiname)} {re.escape(kpiYear)}? 1.{kpi}\")"
   ]
  },
  {
   "cell_type": "code",
   "execution_count": 90,
   "metadata": {},
   "outputs": [],
   "source": [
    "regex_pattern = fr\"{re.escape(kpiname)}(?: {re.escape(kpiYear)})? 1\\.{kpi}\"\n",
    "text = regex_pattern"
   ]
  },
  {
   "cell_type": "code",
   "execution_count": 91,
   "metadata": {},
   "outputs": [
    {
     "name": "stdout",
     "output_type": "stream",
     "text": [
      "Inscryption(?: 2024)? 1\\.1 Inscryption 2024? 1.1\n"
     ]
    }
   ],
   "source": [
    "if text == string1:\n",
    "    print(\"ok\")\n",
    "print(text, string1)"
   ]
  },
  {
   "cell_type": "code",
   "execution_count": null,
   "metadata": {},
   "outputs": [],
   "source": [
    "###############\n",
    "# \n",
    "# If creating a new KPI from user dashboard\n",
    "# \n",
    "#\n",
    "# class NewPMS(IndividualPMS):\n",
    "#     def __init__(self, page):\n",
    "#         self.page = page\n",
    "\n",
    "#     def configureNewCoreKPI(self, readNewKpiNameJson):\n",
    "#         self.page.get_by_label(\"config profile\").click() #config core kpi\n",
    "        \n",
    "#         self.page.get_by_role(\"button\", name=\"Add\").click()\n",
    "#         self.page.get_by_label(\"Profile Title\").nth(1).click()\n",
    "#         self.page.get_by_label(\"Profile Title\").nth(1).fill(readNewKpiNameJson)\n",
    "\n",
    "#         self.page.get_by_label(\"Profile Weightage *\").first.click()\n",
    "#         self.page.get_by_label(\"Profile Weightage *\").first.fill('80')\n",
    "#         self.page.get_by_label(\"Profile Weightage *\").nth(1).click()\n",
    "#         self.page.get_by_label(\"Profile Weightage *\").nth(1).fill('20')\n",
    "\n",
    "#         self.page.get_by_role(\"button\", name=\"Save\").click()\n",
    "#         expect(self.page.get_by_text(\"Success\", exact = True)).to_be_visible()\n",
    "#         self.page.get_by_role(\"button\", name=\"Ok\").click()\n",
    "\n",
    "#     #When creating a new KPI from user dashboard\n",
    "#     def configureThreeKPISlots(self, slots):\n",
    "#         self.page.get_by_label(\"config slot\").click()\n",
    "#         self.page.get_by_text(\"Individual KPI, weightage:\").click()\n",
    "#         self.page.get_by_role(\"option\").filter(has_text=\"Test KPI\").click()\n",
    "#         # for i in range(1, slots+1):\n",
    "#         #     self.page.get_by_role(\"button\", name=\"Add\").click()\n",
    "\n",
    "#         self.page.get_by_label(\"Test KPI 2.1 Weightage *\").click()\n",
    "#         self.page.get_by_label(\"Test KPI 2.1 Weightage *\").fill(\"33.5\")\n",
    "#         self.page.get_by_label(\"Test KPI 2.2 Weightage *\").click()\n",
    "#         self.page.get_by_label(\"Test KPI 2.2 Weightage *\").fill(\"33.5\")\n",
    "#         self.page.get_by_label(\"Test KPI 2.3 Weightage *\").click()\n",
    "#         self.page.get_by_label(\"Test KPI 2.3 Weightage *\").fill(\"33\")\n",
    "\n",
    "#         self.page.get_by_role(\"button\", name=\"Save\").click()\n",
    "#         expect(self.page.get_by_text(\"Success\", exact = True)).to_be_visible()\n",
    "#         self.page.get_by_role(\"button\", name=\"Ok\").click()\n",
    "\n",
    "#     #When creating a new KPI from user dashboard\n",
    "#     def createNewSubKPI(self, readNewKpiNameJson, slots, count):\n",
    "#         kpiButton = self.page.get_by_role(\"button\").filter(has_text=re.compile(fr\"{readNewKpiNameJson}\"))\n",
    "#         expect(kpiButton).to_be_visible()\n",
    "#         kpiButton.click()\n",
    "\n",
    "#         kpino = 2\n",
    "\n",
    "#         for kpi in range(1, slots+1):\n",
    "#             self.page.get_by_text(f\"{readNewKpiNameJson} {kpino}.{kpi}\").click()\n",
    "#             self.page.get_by_role(\"button\", name=\"Create KPI\").click()\n",
    "#             self.page.get_by_label(\"KPI Name *\").fill(f\"Sub {readNewKpiNameJson} {count}_{kpi} (Automated)\")\n",
    "#             self.page.get_by_label(\"KPI Definition *\").click()\n",
    "#             self.page.get_by_placeholder(\"Write Your Kpi Definition\").fill(f\"Sub {readNewKpiNameJson} {kpi}\")\n",
    "\n",
    "#             var = 80\n",
    "#             for l in range(1,6):\n",
    "#                 self.page.get_by_label(f\"L{l} *\").click()\n",
    "#                 self.page.get_by_label(f\"L{l} *\").fill(f\"{var}\")\n",
    "#                 var+=5\n",
    "\n",
    "#                 self.page.get_by_label(f\"L{l} Definition *\").click()\n",
    "#                 self.page.get_by_label(f\"L{l} Definition *\").fill(f\"L{l} def\")\n",
    "\n",
    "#             expect(self.page.get_by_role(\"button\", name=\"Save\")).to_be_visible()\n",
    "#             self.page.get_by_role(\"button\", name=\"Save\").click()\n",
    "\n",
    "#             self.confirmSuccessPopup()\n",
    "\n",
    "#         updateTestNo()"
   ]
  },
  {
   "cell_type": "code",
   "execution_count": null,
   "metadata": {},
   "outputs": [],
   "source": [
    "######################\n",
    "\n",
    "# New KPI test\n",
    "\n",
    "# \n",
    "\n",
    "# from models.landing import Dashboard\n",
    "# from tests.test_01_leave import test_navigateToLogin as navigate, test_enterEmployeeCredentials as login\n",
    "# from models.pms import NewPMS\n",
    "# import time\n",
    "\n",
    "# def test_employeeLogin(page, employeeLogin):\n",
    "#     navigate(page)\n",
    "#     login(page, employeeLogin)\n",
    "\n",
    "# def test_navigateToPMS(page):\n",
    "#     pms = NewPMS(page)\n",
    "#     # page.pause()\n",
    "#     pms.navigateToPmsPlanning()\n",
    "#     pms.chooseYear()\n",
    "\n",
    "# def test_createKPI(page, readNewKpiNameJson, slots, count):\n",
    "#     pms = NewPMS(page)\n",
    "#     pms.configureCoreKPI(readNewKpiNameJson)\n",
    "#     time.sleep(1) #to let new kpi profile load\n",
    "#     pms.configureSubKPI(slots)\n",
    "#     pms.createNewSubKPI(readNewKpiNameJson, slots, count)\n",
    "#     pms.submitKPI()\n",
    "#     page.pause()\n"
   ]
  },
  {
   "cell_type": "code",
   "execution_count": 103,
   "metadata": {},
   "outputs": [],
   "source": [
    "class Metroidvania:\n",
    "    def __init__(self):\n",
    "        self.goal = \"exploring\"\n",
    "\n",
    "    def printGoal(self):\n",
    "        return self.goal\n",
    "    \n",
    "class AnimalWell(Metroidvania):\n",
    "    def __init__(self):\n",
    "        super().__init__()\n",
    "        self.chara = \"bean\"\n",
    "\n",
    "    def printGoal(self):\n",
    "        return super().printGoal()\n",
    "\n",
    "    def printChara(self):\n",
    "        return self.chara"
   ]
  },
  {
   "cell_type": "code",
   "execution_count": 105,
   "metadata": {},
   "outputs": [
    {
     "name": "stdout",
     "output_type": "stream",
     "text": [
      "exploring\n"
     ]
    }
   ],
   "source": [
    "game = AnimalWell()\n",
    "print(game.goal)"
   ]
  },
  {
   "cell_type": "code",
   "execution_count": 14,
   "metadata": {},
   "outputs": [
    {
     "name": "stdout",
     "output_type": "stream",
     "text": [
      "26\n"
     ]
    }
   ],
   "source": [
    "tomorrow = datetime.date.today() + datetime.timedelta(days=0)\n",
    "print(tomorrow.day)"
   ]
  }
 ],
 "metadata": {
  "kernelspec": {
   "display_name": "Python 3",
   "language": "python",
   "name": "python3"
  },
  "language_info": {
   "codemirror_mode": {
    "name": "ipython",
    "version": 3
   },
   "file_extension": ".py",
   "mimetype": "text/x-python",
   "name": "python",
   "nbconvert_exporter": "python",
   "pygments_lexer": "ipython3",
   "version": "3.12.7"
  }
 },
 "nbformat": 4,
 "nbformat_minor": 2
}
