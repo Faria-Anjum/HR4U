{
 "cells": [
  {
   "cell_type": "code",
   "execution_count": 8,
   "metadata": {},
   "outputs": [],
   "source": [
    "from datetime import datetime, date\n",
    "import calendar, random"
   ]
  },
  {
   "cell_type": "code",
   "execution_count": 10,
   "metadata": {},
   "outputs": [],
   "source": [
    "today = datetime.now()\n",
    "\n",
    "year = today.year\n",
    "month = calendar.month_name[today.month]\n",
    "day = today.day\n",
    "\n",
    "day = f'{day} {month} {year}'\n",
    "\n"
   ]
  },
  {
   "cell_type": "code",
   "execution_count": 19,
   "metadata": {},
   "outputs": [
    {
     "name": "stdout",
     "output_type": "stream",
     "text": [
      "3\n"
     ]
    }
   ],
   "source": [
    "month = (12 + 3)%12\n",
    "if month == 0:\n",
    "    month = 12\n",
    "print(month)"
   ]
  },
  {
   "cell_type": "code",
   "execution_count": 33,
   "metadata": {},
   "outputs": [],
   "source": [
    "def monthlogic(month):\n",
    "    if month == 0:\n",
    "        month = 12\n",
    "    if month < today.month:\n",
    "        year = today.year + 1\n",
    "    else:\n",
    "        year = today.year\n",
    "\n",
    "    return month, year\n",
    "\n",
    "def threemonths():\n",
    "    today = datetime.now()\n",
    "\n",
    "    month = (today.month + 3)%12\n",
    "    month, year = monthlogic(month)\n",
    "\n",
    "    if today.day in [28,29,30,31]:\n",
    "        day = 1\n",
    "        month = (month + 1)%12\n",
    "        monthlogic(month, year)\n",
    "    else:\n",
    "        day = today.day\n",
    "\n",
    "    month = calendar.month_name[month]\n",
    "\n",
    "    day = f'{day} {month} {year}'\n",
    "\n",
    "    print(day)"
   ]
  },
  {
   "cell_type": "code",
   "execution_count": 34,
   "metadata": {},
   "outputs": [
    {
     "name": "stdout",
     "output_type": "stream",
     "text": [
      "19 April 2025\n"
     ]
    }
   ],
   "source": [
    "threemonths()"
   ]
  },
  {
   "cell_type": "code",
   "execution_count": 22,
   "metadata": {},
   "outputs": [
    {
     "name": "stdout",
     "output_type": "stream",
     "text": [
      "9 January 2025\n"
     ]
    }
   ],
   "source": [
    "year = today.year\n",
    "month = calendar.month_name[today.month]\n",
    "day = today.day + 1\n",
    "\n",
    "day = f'{day} {month} {year}'\n",
    "print(day)"
   ]
  },
  {
   "cell_type": "code",
   "execution_count": 9,
   "metadata": {},
   "outputs": [
    {
     "name": "stdout",
     "output_type": "stream",
     "text": [
      "4.0\n"
     ]
    }
   ],
   "source": [
    "\n",
    "with open(r\"files\\test.txt\",'r') as f:\n",
    "    st = float(f.readlines()[0])\n",
    "print(st)"
   ]
  },
  {
   "cell_type": "code",
   "execution_count": 8,
   "metadata": {},
   "outputs": [],
   "source": [
    "def rand():\n",
    "    rand = random.randint(80, 101)\n",
    "    return rand"
   ]
  },
  {
   "cell_type": "code",
   "execution_count": 44,
   "metadata": {},
   "outputs": [
    {
     "name": "stdout",
     "output_type": "stream",
     "text": [
      "88\n"
     ]
    }
   ],
   "source": [
    "print(rand())"
   ]
  },
  {
   "cell_type": "code",
   "execution_count": 6,
   "metadata": {},
   "outputs": [
    {
     "name": "stdout",
     "output_type": "stream",
     "text": [
      "16.666666666666668\n",
      "16\n",
      "4\n"
     ]
    }
   ],
   "source": [
    "import math\n",
    "total = 6\n",
    "percentage = 100/total\n",
    "print(percentage)\n",
    "percentage1 = math.floor(percentage)\n",
    "print(percentage1)\n",
    "percentage2 = int(100 - (percentage1*total))\n",
    "print(percentage2)"
   ]
  },
  {
   "cell_type": "code",
   "execution_count": 9,
   "metadata": {},
   "outputs": [
    {
     "name": "stdout",
     "output_type": "stream",
     "text": [
      "2025\n"
     ]
    }
   ],
   "source": [
    "today = datetime.now()\n",
    "year = today.year\n",
    "print(year)"
   ]
  },
  {
   "cell_type": "code",
   "execution_count": 67,
   "metadata": {},
   "outputs": [
    {
     "name": "stdout",
     "output_type": "stream",
     "text": [
      "3\n"
     ]
    }
   ],
   "source": [
    "score = str(random.randint(3,5))\n",
    "print(score)"
   ]
  }
 ],
 "metadata": {
  "kernelspec": {
   "display_name": "Python 3",
   "language": "python",
   "name": "python3"
  },
  "language_info": {
   "codemirror_mode": {
    "name": "ipython",
    "version": 3
   },
   "file_extension": ".py",
   "mimetype": "text/x-python",
   "name": "python",
   "nbconvert_exporter": "python",
   "pygments_lexer": "ipython3",
   "version": "3.12.7"
  }
 },
 "nbformat": 4,
 "nbformat_minor": 2
}
